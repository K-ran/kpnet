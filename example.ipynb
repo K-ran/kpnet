{
 "cells": [
  {
   "cell_type": "code",
   "execution_count": 52,
   "metadata": {
    "collapsed": false
   },
   "outputs": [],
   "source": [
    "from kpnet import NeuralNet \n",
    "from kpnet import Layer \n",
    "import numpy as np\n",
    "import matplotlib.pyplot as plt\n",
    "%matplotlib inline "
   ]
  },
  {
   "cell_type": "code",
   "execution_count": 53,
   "metadata": {
    "collapsed": true
   },
   "outputs": [],
   "source": [
    "#Sample input: xor input\n",
    "x = np.array([[0,0,1,1],[0,1,0,1]])\n",
    "\n",
    "#Sample out\n",
    "y = np.array([[0, 1, 1, 0],[1, 0, 0, 1]])\n",
    "\n",
    "network = NeuralNet()\n",
    "\n",
    "input_layer = Layer(number_of_neurons=2,layer_type='input')\n",
    "hidden_layer1 = Layer(number_of_neurons=8)\n",
    "hidden_layer2 = Layer(number_of_neurons=4)\n",
    "output1 = Layer(number_of_neurons=2,layer_type='output')\n",
    "\n",
    "network.add(input_layer)\n",
    "network.add(hidden_layer1)\n",
    "network.add(hidden_layer2)\n",
    "network.add(output1)\n",
    "\n",
    "network.compile()"
   ]
  },
  {
   "cell_type": "code",
   "execution_count": 54,
   "metadata": {
    "collapsed": false
   },
   "outputs": [
    {
     "name": "stdout",
     "output_type": "stream",
     "text": [
      "0.6928197944605498\n",
      "0.02313514922739195\n",
      "0.008936132282120497\n",
      "0.004226679595815883\n",
      "0.00191348340809867\n",
      "0.001235343548769911\n",
      "0.000901293857006542\n",
      "0.0007038164272140141\n",
      "0.0005743414919764472\n",
      "0.00048304508685343653\n",
      "0.00041546468615804135\n",
      "0.00036373510836352737\n",
      "0.0003226709871357948\n",
      "0.00028964840767879696\n",
      "0.0002623105588478552\n",
      "0.00023949993632226696\n",
      "0.00022007681090891276\n",
      "0.00020344533855888737\n",
      "0.00018902321836143597\n",
      "0.00017639524410629036\n",
      "0.00016528969268675048\n"
     ]
    }
   ],
   "source": [
    "\n",
    "cost = network.train(x=x,y_hat=y,print_cost=True,learning_rate=0.08,epoch=10000,store_cost_after_iterations=500)\n"
   ]
  },
  {
   "cell_type": "code",
   "execution_count": 57,
   "metadata": {
    "collapsed": false
   },
   "outputs": [
    {
     "data": {
      "text/plain": [
       "array([[ 0.,  1.,  1.,  0.],\n",
       "       [ 1.,  0.,  0.,  1.]])"
      ]
     },
     "execution_count": 57,
     "metadata": {},
     "output_type": "execute_result"
    },
    {
     "data": {
      "image/png": "[encoded data removed]",
      "text/plain": [
       "<matplotlib.figure.Figure at 0x7f22c442b0b8>"
      ]
     },
     "metadata": {},
     "output_type": "display_data"
    }
   ],
   "source": [
    "plt.plot(np.arange(0,10000,10000/len(cost)),cost)\n",
    "np.round(network.forward_feed(x))"
   ]
  },
  {
   "cell_type": "code",
   "execution_count": null,
   "metadata": {
    "collapsed": true
   },
   "outputs": [],
   "source": []
  }
 ],
 "metadata": {
  "kernelspec": {
   "display_name": "Python 3",
   "language": "python",
   "name": "python3"
  },
  "language_info": {
   "codemirror_mode": {
    "name": "ipython",
    "version": 3
   },
   "file_extension": ".py",
   "mimetype": "text/x-python",
   "name": "python",
   "nbconvert_exporter": "python",
   "pygments_lexer": "ipython3",
   "version": "3.5.2"
  }
 },
 "nbformat": 4,
 "nbformat_minor": 2
}
