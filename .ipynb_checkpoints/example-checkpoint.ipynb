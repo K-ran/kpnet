{
 "cells": [
  {
   "cell_type": "code",
   "execution_count": 15,
   "metadata": {
    "collapsed": false
   },
   "outputs": [],
   "source": [
    "from kpnet import NeuralNet \n",
    "from kpnet import Layer \n",
    "import numpy as np"
   ]
  },
  {
   "cell_type": "code",
   "execution_count": 25,
   "metadata": {
    "collapsed": true
   },
   "outputs": [],
   "source": [
    "#Sample input: xor input\n",
    "x = np.array([[0,0,1,1],[0,1,0,1]])\n",
    "\n",
    "#Sample out\n",
    "y = np.array([[0, 1, 1, 0],[1, 0, 0, 1]])\n",
    "\n",
    "network = NeuralNet()\n",
    "\n",
    "input_layer = Layer(number_of_neurons=2,layer_type='input')\n",
    "hidden_layer1 = Layer(number_of_neurons=4,layer_activation='sigmoid')\n",
    "hidden_layer2 = Layer(number_of_neurons=4,layer_activation='sigmoid')\n",
    "output1 = Layer(number_of_neurons=2,layer_type='output')\n",
    "\n",
    "network.add(input_layer)\n",
    "network.add(hidden_layer1)\n",
    "network.add(hidden_layer2)\n",
    "network.add(output1)\n",
    "\n",
    "network.compile()"
   ]
  },
  {
   "cell_type": "code",
   "execution_count": 26,
   "metadata": {
    "collapsed": false
   },
   "outputs": [
    {
     "name": "stdout",
     "output_type": "stream",
     "text": [
      "0.6947033384930971\n",
      "0.5325891268780488\n",
      "0.044840988363548766\n",
      "0.01735110928982527\n",
      "0.01051040312475313\n",
      "0.0074218526317164505\n",
      "0.005695401415989217\n",
      "0.004623231212153031\n",
      "0.003880366494223079\n",
      "0.003351057887415386\n",
      "0.0029320431566456314\n",
      "0.002610408244471875\n",
      "0.0023507690701832615\n",
      "0.0021429623397233428\n",
      "0.0019597774986787465\n",
      "0.0018085558643071448\n",
      "0.0016791882964534096\n",
      "0.0015682937192983155\n",
      "0.001468424837608086\n",
      "0.0013815717378258354\n",
      "0.0013037741018943534\n",
      "[0.6947033384930971, 0.5325891268780488, 0.044840988363548766, 0.01735110928982527, 0.01051040312475313, 0.0074218526317164505, 0.005695401415989217, 0.004623231212153031, 0.003880366494223079, 0.003351057887415386, 0.0029320431566456314, 0.002610408244471875, 0.0023507690701832615, 0.0021429623397233428, 0.0019597774986787465, 0.0018085558643071448, 0.0016791882964534096, 0.0015682937192983155, 0.001468424837608086, 0.0013815717378258354, 0.0013037741018943534]\n"
     ]
    }
   ],
   "source": [
    "\n",
    "print(network.train(x=x,y_hat=y,print_cost=True,learning_rate=0.05,epoch=10000,store_cost_after_iterations=500))\n"
   ]
  },
  {
   "cell_type": "code",
   "execution_count": 27,
   "metadata": {
    "collapsed": false
   },
   "outputs": [
    {
     "data": {
      "text/plain": [
       "array([[ 0.,  1.,  1.,  0.],\n",
       "       [ 1.,  0.,  0.,  1.]])"
      ]
     },
     "execution_count": 27,
     "metadata": {},
     "output_type": "execute_result"
    }
   ],
   "source": [
    "np.round(network.forward_feed(x))"
   ]
  },
  {
   "cell_type": "code",
   "execution_count": null,
   "metadata": {
    "collapsed": true
   },
   "outputs": [],
   "source": []
  }
 ],
 "metadata": {
  "kernelspec": {
   "display_name": "Python 3",
   "language": "python",
   "name": "python3"
  },
  "language_info": {
   "codemirror_mode": {
    "name": "ipython",
    "version": 3
   },
   "file_extension": ".py",
   "mimetype": "text/x-python",
   "name": "python",
   "nbconvert_exporter": "python",
   "pygments_lexer": "ipython3",
   "version": "3.5.2"
  }
 },
 "nbformat": 4,
 "nbformat_minor": 2
}
